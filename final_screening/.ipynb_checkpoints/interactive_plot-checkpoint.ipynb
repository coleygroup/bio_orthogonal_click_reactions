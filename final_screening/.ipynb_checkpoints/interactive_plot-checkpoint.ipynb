{
 "cells": [
  {
   "cell_type": "code",
   "execution_count": 1,
   "metadata": {},
   "outputs": [],
   "source": [
    "from bokeh.io import output_notebook\n",
    "from bokeh.models import HoverTool\n",
    "from bokeh.plotting import figure, show, ColumnDataSource, output_file\n",
    "import pandas as pd\n",
    "from rdkit import Chem\n",
    "from rdkit.Chem import rdChemReactions as Reactions\n",
    "import rdkit.Chem.Draw\n",
    "from bokeh.palettes import d3\n",
    "import bokeh.models as bmo\n",
    "import numpy as np"
   ]
  },
  {
   "cell_type": "code",
   "execution_count": 24,
   "metadata": {},
   "outputs": [
    {
     "name": "stdout",
     "output_type": "stream",
     "text": [
      "110135\n",
      "Index(['Unnamed: 0', 'rxn_id', 'rxn_smiles', 'predicted_activation_energy',\n",
      "       'predicted_reaction_energy', 'dipole', 'dipolarophile',\n",
      "       'lowest_dipole_barrier', 'bio_orthogonal_potential',\n",
      "       'dipolarophile_scaffold', 'dipole_scaffold'],\n",
      "      dtype='object')\n",
      "17.5847925\n",
      "507\n"
     ]
    }
   ],
   "source": [
    "df = pd.read_csv('data_files/xxx.csv')\n",
    "print(len(df))\n",
    "print(df.columns)\n",
    "print(df['bio_orthogonal_potential'].max())\n",
    "print(len(df[df['dipole'] == 'C[N+]([O-])=C(c1ccccc1)c1ccccc1']))"
   ]
  },
  {
   "cell_type": "code",
   "execution_count": 38,
   "metadata": {},
   "outputs": [
    {
     "name": "stdout",
     "output_type": "stream",
     "text": [
      "2.981876\n"
     ]
    },
    {
     "name": "stderr",
     "output_type": "stream",
     "text": [
      "/var/folders/vw/l7fdhlt10s5_r65_n6vfdsr80000gn/T/ipykernel_6586/4177581878.py:1: UserWarning: Boolean Series key will be reindexed to match DataFrame index.\n",
      "  df1 = df[df['predicted_activation_energy'] < 22][df['dipole'] != '[O-][NH+]=C(c1ccccc1)c1ccccc1']\n"
     ]
    }
   ],
   "source": [
    "df1 = df[df['predicted_activation_energy'] < 24][df['dipole'] != '[O-][NH+]=C(c1ccccc1)c1ccccc1']\n",
    "print(df1[df1['dipolarophile_scaffold'] == 'norbornene'].bio_orthogonal_potential.max())\n",
    "#print(df[df['dipole'] == 'C[N+]([O-])=C(c1ccccc1)c1ccccc1'][df['bio_orthogonal_potential'] > 15].rxn_smiles.tolist())"
   ]
  },
  {
   "cell_type": "code",
   "execution_count": 45,
   "metadata": {},
   "outputs": [
    {
     "name": "stdout",
     "output_type": "stream",
     "text": [
      "7.504465\n"
     ]
    },
    {
     "name": "stderr",
     "output_type": "stream",
     "text": [
      "/var/folders/vw/l7fdhlt10s5_r65_n6vfdsr80000gn/T/ipykernel_6586/106319524.py:1: UserWarning: Boolean Series key will be reindexed to match DataFrame index.\n",
      "  df2 = df[df['predicted_activation_energy'] < 21][df['dipolarophile_scaffold'] != 'non-strained'][df['lowest_dipole_barrier'] > 28][df['predicted_reaction_energy'] < -50]\n"
     ]
    }
   ],
   "source": [
    "df2 = df[df['predicted_activation_energy'] < 21][df['dipolarophile_scaffold'] != 'non-strained'][df['lowest_dipole_barrier'] > 28][df['predicted_reaction_energy'] < -50]\n",
    "print(df2[df2['dipole_scaffold'] == 'propargyl'].bio_orthogonal_potential.max())"
   ]
  },
  {
   "cell_type": "code",
   "execution_count": 74,
   "metadata": {},
   "outputs": [
    {
     "name": "stdout",
     "output_type": "stream",
     "text": [
      "12943\n",
      "2.354561999999998\n"
     ]
    },
    {
     "name": "stderr",
     "output_type": "stream",
     "text": [
      "/var/folders/vw/l7fdhlt10s5_r65_n6vfdsr80000gn/T/ipykernel_6586/2864803488.py:3: UserWarning: Boolean Series key will be reindexed to match DataFrame index.\n",
      "  df3 = df[df['predicted_activation_energy'] < 24.9][df['lowest_dipole_barrier'] > 25][df['donating_groups_dipolarophile'] >= 3]\n"
     ]
    }
   ],
   "source": [
    "df['donating_groups_dipolarophile'] = df['dipolarophile'].apply(lambda x: x.count('(OC)') + x.count('(C)') - x.count('(=O)'))\n",
    "print(len(df[df['donating_groups_dipolarophile'] >= 1]))\n",
    "df3 = df[df['predicted_activation_energy'] < 24.9][df['lowest_dipole_barrier'] > 25][df['donating_groups_dipolarophile'] >= 3]\n",
    "print(df3[df3['dipole_scaffold'] == 'propargyl'].bio_orthogonal_potential.max())"
   ]
  },
  {
   "cell_type": "code",
   "execution_count": null,
   "metadata": {},
   "outputs": [],
   "source": []
  },
  {
   "cell_type": "code",
   "execution_count": null,
   "metadata": {},
   "outputs": [],
   "source": []
  },
  {
   "cell_type": "code",
   "execution_count": 68,
   "metadata": {},
   "outputs": [
    {
     "name": "stdout",
     "output_type": "stream",
     "text": [
      "Index(['Unnamed: 0.1', 'Unnamed: 0', 'rxn_id', 'rxn_smiles',\n",
      "       'predicted_activation_energy', 'predicted_reaction_energy', 'dipole',\n",
      "       'smiles_dict', 'dipolarophile', 'lowest_dipole_barrier',\n",
      "       'bio_orthogonal_potential', 'dipolarophile_scaffold',\n",
      "       'dipole_scaffold'],\n",
      "      dtype='object')\n",
      "1351\n",
      "Unnamed: 0.1                                                                2085\n",
      "Unnamed: 0                                                                 51162\n",
      "rxn_id                                                                    435987\n",
      "rxn_smiles                     [CH3:10][NH:11][C:12](=[O:13])[C:14]([C:15]([C...\n",
      "predicted_activation_energy                                             22.49261\n",
      "predicted_reaction_energy                                               -45.4233\n",
      "dipole                              CNC(=O)C(C(C)=O)=[N+](C)[C-](C(=O)NC)C(=O)NC\n",
      "smiles_dict                    {'rxn_smiles': '[CH3:10][NH:11][C:12](=[O:13])...\n",
      "dipolarophile                                                   COC(=O)C#CC(C)=O\n",
      "lowest_dipole_barrier                                                   26.23462\n",
      "bio_orthogonal_potential                                                 3.74201\n",
      "dipolarophile_scaffold                                              non-strained\n",
      "dipole_scaffold                                                            allyl\n",
      "reaction_class                                              allyl - non-strained\n",
      "Name: 2085, dtype: object\n"
     ]
    }
   ],
   "source": [
    "df = pd.read_csv('test.csv').sample(4000)\n",
    "print(df.columns)\n",
    "print(len(df[df['dipole_scaffold'] == 'cyclic']))\n",
    "df['reaction_class'] = df.apply(lambda x: f'{x[\"dipole_scaffold\"]} - {x[\"dipolarophile_scaffold\"]}', axis=1)\n",
    "print(df.iloc[257])"
   ]
  },
  {
   "cell_type": "code",
   "execution_count": null,
   "metadata": {},
   "outputs": [],
   "source": []
  },
  {
   "cell_type": "code",
   "execution_count": 64,
   "metadata": {},
   "outputs": [],
   "source": [
    "color_dict = {'allyl - cyclooctyne': 'blue', 'cyclic - cyclooctyne': 'orange', 'propargyl - cyclooctyne': 'green',\n",
    "               'allyl - oxo-norbornadiene': 'red', 'cyclic - oxo-norbornadiene': 'purple', 'propargyl - oxo-norbornadiene': 'brown',\n",
    "               'allyl - non-strained': 'pink', 'cyclic - non-strained': 'grey', 'propargyl - non-strained': 'yellow',\n",
    "             }\n",
    "\n",
    "df['color'] = df['reaction_class'].apply(lambda x: color_dict[x])"
   ]
  },
  {
   "cell_type": "code",
   "execution_count": null,
   "metadata": {
    "scrolled": true
   },
   "outputs": [],
   "source": [
    "# Get data to plot\n",
    "all_smiles = df[\"rxn_smiles\"]\n",
    "x = df[\"predicted_activation_energy\"].values\n",
    "y = df[\"lowest_dipole_barrier\"].values\n",
    "color = df[\"color\"].values\n",
    "\n",
    "rxn_id = df['rxn_id']\n",
    "\n",
    "# Create SVGs for each smiles with the \"new\" RDKit drawing code\n",
    "imgs = []\n",
    "for rxn_smiles in all_smiles:\n",
    "    smiles = rxn_smiles.split(\">\")[0]\n",
    "    mol = Chem.MolFromSmiles(smiles)\n",
    "    d2d = Chem.Draw.MolDraw2DSVG(150, 150)\n",
    "    d2d.DrawMolecule(mol)\n",
    "    d2d.FinishDrawing()\n",
    "    svg = d2d.GetDrawingText()\n",
    "    imgs.append(svg)\n",
    "\n",
    "# Configure for output in the notebook\n",
    "output_notebook()\n",
    "\n",
    "# Load the data into a source and plot\n",
    "source = ColumnDataSource(\n",
    "    data={\n",
    "        \"x\": x,\n",
    "        \"y\": y,\n",
    "        \"imgs\": imgs,\n",
    "        \"color\": color, \n",
    "        \"rxn_id\": rxn_id,\n",
    "    }\n",
    ")\n",
    "p = figure()\n",
    "p.scatter(\"x\", \"y\", fill_color=\"color\", radius= 0.03, \n",
    "          fill_alpha=0.9, source=source, line_color=None)\n",
    "p.x_range.flipped = True\n",
    "p.xaxis.axis_label = r\"$$\\text{G}^{\\ddagger} \\text{ (kcal/mol)}$$\"\n",
    "p.yaxis.axis_label = r\"$$\\text{lowest native G}^{\\ddagger} \\text{ (kcal/mol)}$$\"\n",
    "\n",
    "# Create tooltips referencing stored images\n",
    "TOOLTIPS = \"\"\"\\\n",
    "    <div>\n",
    "        <div>\n",
    "            @imgs{safe}\n",
    "        </div>\n",
    "        <div>\n",
    "            <span>[$index]</span>\n",
    "        </div>\n",
    "        <div>\n",
    "            <span>($x, $y)</span>\n",
    "        </div>\n",
    "    </div>\n",
    "\"\"\"\n",
    "\n",
    "# Connect tooltips to plot\n",
    "p.add_tools(HoverTool(tooltips=TOOLTIPS))\n",
    "\n",
    "# Show figure\n",
    "show(p)"
   ]
  },
  {
   "cell_type": "code",
   "execution_count": null,
   "metadata": {},
   "outputs": [],
   "source": []
  }
 ],
 "metadata": {
  "kernelspec": {
   "display_name": "Python [conda env:cycloadd]",
   "language": "python",
   "name": "conda-env-cycloadd-py"
  },
  "language_info": {
   "codemirror_mode": {
    "name": "ipython",
    "version": 3
   },
   "file_extension": ".py",
   "mimetype": "text/x-python",
   "name": "python",
   "nbconvert_exporter": "python",
   "pygments_lexer": "ipython3",
   "version": "3.10.4"
  }
 },
 "nbformat": 4,
 "nbformat_minor": 2
}
